{
 "cells": [
  {
   "cell_type": "code",
   "execution_count": 1,
   "metadata": {},
   "outputs": [],
   "source": [
    "import matplotlib.pyplot as plt\n",
    "import numpy as np\n",
    "import pandas as pd\n",
    "import os,sys\n",
    "from rdkit import Chem\n",
    "from rdkit.Chem import Crippen, QED, RDConfig\n",
    "sys.path.append(os.path.join(RDConfig.RDContribDir, 'SA_Score'))\n",
    "import sascorer"
   ]
  },
  {
   "cell_type": "code",
   "execution_count": 2,
   "metadata": {},
   "outputs": [],
   "source": [
    "%matplotlib inline"
   ]
  },
  {
   "cell_type": "code",
   "execution_count": 3,
   "metadata": {},
   "outputs": [],
   "source": [
    "plt.style.use('seaborn-v0_8-bright')"
   ]
  },
  {
   "cell_type": "code",
   "execution_count": 4,
   "metadata": {},
   "outputs": [
    {
     "name": "stdout",
     "output_type": "stream",
     "text": [
      "9\n"
     ]
    },
    {
     "data": {
      "text/html": [
       "<div>\n",
       "<style scoped>\n",
       "    .dataframe tbody tr th:only-of-type {\n",
       "        vertical-align: middle;\n",
       "    }\n",
       "\n",
       "    .dataframe tbody tr th {\n",
       "        vertical-align: top;\n",
       "    }\n",
       "\n",
       "    .dataframe thead th {\n",
       "        text-align: right;\n",
       "    }\n",
       "</style>\n",
       "<table border=\"1\" class=\"dataframe\">\n",
       "  <thead>\n",
       "    <tr style=\"text-align: right;\">\n",
       "      <th></th>\n",
       "      <th>ID</th>\n",
       "      <th>ZINC22 ID</th>\n",
       "      <th>Smile</th>\n",
       "    </tr>\n",
       "  </thead>\n",
       "  <tbody>\n",
       "    <tr>\n",
       "      <th>0</th>\n",
       "      <td>Z8739902234</td>\n",
       "      <td>ZINCpP000008GlLS</td>\n",
       "      <td>CC=1C=C(CNCC(O)COC=2C=CC(=CC2C)C(C)(C)C)SC1C</td>\n",
       "    </tr>\n",
       "    <tr>\n",
       "      <th>1</th>\n",
       "      <td>Z3831472882</td>\n",
       "      <td>ZINCnv000001Kvyh</td>\n",
       "      <td>CC1=NN(CC=2C=CC(C)=CC2)C(C)=C1CNC[C@@H]3C[C@H]...</td>\n",
       "    </tr>\n",
       "    <tr>\n",
       "      <th>2</th>\n",
       "      <td>Z8739902231</td>\n",
       "      <td>ZINCnz000000f9a2</td>\n",
       "      <td>CC(C)[C@@H](N)CNCC=1C(C)=NN(CC=2C=CC(C)=CC2)C1C</td>\n",
       "    </tr>\n",
       "    <tr>\n",
       "      <th>3</th>\n",
       "      <td>Z8718594710</td>\n",
       "      <td>ZINCpO00000ddVvP</td>\n",
       "      <td>CC(NCC1=CC=2C(C)=CC(C)=CC2N1)C(O)C=3C=CC(C)=C(...</td>\n",
       "    </tr>\n",
       "    <tr>\n",
       "      <th>4</th>\n",
       "      <td>Z8739905023</td>\n",
       "      <td>ZINCpO000008hVSf</td>\n",
       "      <td>CC(CCC=1C=CC(OCC=C(C)C)=CC1)NCC(O)CCC2CC2</td>\n",
       "    </tr>\n",
       "  </tbody>\n",
       "</table>\n",
       "</div>"
      ],
      "text/plain": [
       "            ID         ZINC22 ID  \\\n",
       "0  Z8739902234  ZINCpP000008GlLS   \n",
       "1  Z3831472882  ZINCnv000001Kvyh   \n",
       "2  Z8739902231  ZINCnz000000f9a2   \n",
       "3  Z8718594710  ZINCpO00000ddVvP   \n",
       "4  Z8739905023  ZINCpO000008hVSf   \n",
       "\n",
       "                                               Smile  \n",
       "0       CC=1C=C(CNCC(O)COC=2C=CC(=CC2C)C(C)(C)C)SC1C  \n",
       "1  CC1=NN(CC=2C=CC(C)=CC2)C(C)=C1CNC[C@@H]3C[C@H]...  \n",
       "2    CC(C)[C@@H](N)CNCC=1C(C)=NN(CC=2C=CC(C)=CC2)C1C  \n",
       "3  CC(NCC1=CC=2C(C)=CC(C)=CC2N1)C(O)C=3C=CC(C)=C(...  \n",
       "4          CC(CCC=1C=CC(OCC=C(C)C)=CC1)NCC(O)CCC2CC2  "
      ]
     },
     "execution_count": 4,
     "metadata": {},
     "output_type": "execute_result"
    }
   ],
   "source": [
    "infn = \"../orders/Nav_5EK0_order1.csv\"\n",
    "df_order = pd.read_csv(infn)\n",
    "print(len(df_order))\n",
    "df_order.head()"
   ]
  },
  {
   "cell_type": "code",
   "execution_count": 5,
   "metadata": {},
   "outputs": [
    {
     "name": "stdout",
     "output_type": "stream",
     "text": [
      "160\n"
     ]
    },
    {
     "data": {
      "text/html": [
       "<div>\n",
       "<style scoped>\n",
       "    .dataframe tbody tr th:only-of-type {\n",
       "        vertical-align: middle;\n",
       "    }\n",
       "\n",
       "    .dataframe tbody tr th {\n",
       "        vertical-align: top;\n",
       "    }\n",
       "\n",
       "    .dataframe thead th {\n",
       "        text-align: right;\n",
       "    }\n",
       "</style>\n",
       "<table border=\"1\" class=\"dataframe\">\n",
       "  <thead>\n",
       "    <tr style=\"text-align: right;\">\n",
       "      <th></th>\n",
       "      <th>Unnamed: 0</th>\n",
       "      <th>zincid</th>\n",
       "      <th>score</th>\n",
       "      <th>complexscore</th>\n",
       "      <th>dG</th>\n",
       "      <th>ligandname_x</th>\n",
       "      <th>description</th>\n",
       "      <th>smiles</th>\n",
       "      <th>fp_binary</th>\n",
       "      <th>i_iter</th>\n",
       "      <th>clusterid</th>\n",
       "      <th>unsats</th>\n",
       "      <th>clogP</th>\n",
       "      <th>ligandname_y</th>\n",
       "      <th>n_bad_bonds</th>\n",
       "      <th>n_bad_angles</th>\n",
       "      <th>n_bad_torsions</th>\n",
       "    </tr>\n",
       "  </thead>\n",
       "  <tbody>\n",
       "    <tr>\n",
       "      <th>0</th>\n",
       "      <td>0</td>\n",
       "      <td>ZINCqv0000029uDv</td>\n",
       "      <td>-81.422</td>\n",
       "      <td>-81.422</td>\n",
       "      <td>-33.43</td>\n",
       "      <td>ZINCqv0000029uDv</td>\n",
       "      <td>Nav_5EK0_0_1520.VSD-5EK0.lig_0001_0001_0017</td>\n",
       "      <td>Cc1cnn(CCC(=O)N(C)CCOCC[N@@H+](C)CCCC2CCC2)c1</td>\n",
       "      <td>b'\\xe0\\xff\\xff\\xff\\x00\\x04\\x00\\x00\\'\\x00\\x00\\x...</td>\n",
       "      <td>8</td>\n",
       "      <td>7</td>\n",
       "      <td>1</td>\n",
       "      <td>1.15162</td>\n",
       "      <td>ZINCqv0000029uDv.lig</td>\n",
       "      <td>7</td>\n",
       "      <td>8</td>\n",
       "      <td>1</td>\n",
       "    </tr>\n",
       "    <tr>\n",
       "      <th>1</th>\n",
       "      <td>1</td>\n",
       "      <td>ZINCqv000005TsWE</td>\n",
       "      <td>-77.924</td>\n",
       "      <td>-77.924</td>\n",
       "      <td>-32.73</td>\n",
       "      <td>ZINCqv000005TsWE</td>\n",
       "      <td>Nav_5EK0_0_655.VSD-5EK0.lig_0001_0001_0032</td>\n",
       "      <td>COc1cc(CN[C@@H](CCc2ccccc2)[C@@H](C)[NH3+])ccc...</td>\n",
       "      <td>b'\\xe0\\xff\\xff\\xff\\x00\\x04\\x00\\x00\"\\x00\\x00\\x0...</td>\n",
       "      <td>8</td>\n",
       "      <td>11</td>\n",
       "      <td>0</td>\n",
       "      <td>1.82010</td>\n",
       "      <td>ZINCqv000005TsWE.lig</td>\n",
       "      <td>13</td>\n",
       "      <td>7</td>\n",
       "      <td>0</td>\n",
       "    </tr>\n",
       "    <tr>\n",
       "      <th>2</th>\n",
       "      <td>2</td>\n",
       "      <td>ZINCpN00000f2Y3z</td>\n",
       "      <td>-83.697</td>\n",
       "      <td>-83.697</td>\n",
       "      <td>-32.45</td>\n",
       "      <td>ZINCpN00000f2Y3z</td>\n",
       "      <td>Nav_5EK0_0_1376.VSD-5EK0.lig_0001_0001_0007</td>\n",
       "      <td>C/[NH+]=C(\\NCCCc1ccc(C)cc1C)NCCc1cc(C)sc1C</td>\n",
       "      <td>b'\\xe0\\xff\\xff\\xff\\x00\\x04\\x00\\x00\"\\x00\\x00\\x0...</td>\n",
       "      <td>8</td>\n",
       "      <td>14</td>\n",
       "      <td>1</td>\n",
       "      <td>2.40268</td>\n",
       "      <td>ZINCpN00000f2Y3z.lig</td>\n",
       "      <td>6</td>\n",
       "      <td>6</td>\n",
       "      <td>1</td>\n",
       "    </tr>\n",
       "    <tr>\n",
       "      <th>3</th>\n",
       "      <td>3</td>\n",
       "      <td>ZINCpP000008GlLS</td>\n",
       "      <td>-80.521</td>\n",
       "      <td>-80.521</td>\n",
       "      <td>-32.39</td>\n",
       "      <td>ZINCpP000008GlLS</td>\n",
       "      <td>Nav_5EK0_0_41.VSD-5EK0.lig_0001_0001_0023</td>\n",
       "      <td>Cc1cc(C(C)(C)C)ccc1OC[C@@H](O)C[NH2+]Cc1cc(C)c...</td>\n",
       "      <td>b'\\xe0\\xff\\xff\\xff\\x00\\x04\\x00\\x00\\'\\x00\\x00\\x...</td>\n",
       "      <td>8</td>\n",
       "      <td>15</td>\n",
       "      <td>0</td>\n",
       "      <td>3.47416</td>\n",
       "      <td>ZINCpP000008GlLS.lig</td>\n",
       "      <td>4</td>\n",
       "      <td>4</td>\n",
       "      <td>0</td>\n",
       "    </tr>\n",
       "    <tr>\n",
       "      <th>4</th>\n",
       "      <td>4</td>\n",
       "      <td>ZINCpP000008GwrJ</td>\n",
       "      <td>-70.858</td>\n",
       "      <td>-70.858</td>\n",
       "      <td>-31.95</td>\n",
       "      <td>ZINCpP000008GwrJ</td>\n",
       "      <td>Nav_5EK0_0_1340.VSD-5EK0.lig_0001_0001_0045</td>\n",
       "      <td>Cc1cc(C[NH2+][C@@H]2CCCC[C@@H]2C[NH3+])ccc1Oc1...</td>\n",
       "      <td>b'\\xe0\\xff\\xff\\xff\\x00\\x04\\x00\\x00$\\x00\\x00\\x0...</td>\n",
       "      <td>8</td>\n",
       "      <td>23</td>\n",
       "      <td>0</td>\n",
       "      <td>2.79052</td>\n",
       "      <td>ZINCpP000008GwrJ.lig</td>\n",
       "      <td>14</td>\n",
       "      <td>3</td>\n",
       "      <td>0</td>\n",
       "    </tr>\n",
       "  </tbody>\n",
       "</table>\n",
       "</div>"
      ],
      "text/plain": [
       "   Unnamed: 0            zincid   score  complexscore     dG  \\\n",
       "0           0  ZINCqv0000029uDv -81.422       -81.422 -33.43   \n",
       "1           1  ZINCqv000005TsWE -77.924       -77.924 -32.73   \n",
       "2           2  ZINCpN00000f2Y3z -83.697       -83.697 -32.45   \n",
       "3           3  ZINCpP000008GlLS -80.521       -80.521 -32.39   \n",
       "4           4  ZINCpP000008GwrJ -70.858       -70.858 -31.95   \n",
       "\n",
       "       ligandname_x                                  description  \\\n",
       "0  ZINCqv0000029uDv  Nav_5EK0_0_1520.VSD-5EK0.lig_0001_0001_0017   \n",
       "1  ZINCqv000005TsWE   Nav_5EK0_0_655.VSD-5EK0.lig_0001_0001_0032   \n",
       "2  ZINCpN00000f2Y3z  Nav_5EK0_0_1376.VSD-5EK0.lig_0001_0001_0007   \n",
       "3  ZINCpP000008GlLS    Nav_5EK0_0_41.VSD-5EK0.lig_0001_0001_0023   \n",
       "4  ZINCpP000008GwrJ  Nav_5EK0_0_1340.VSD-5EK0.lig_0001_0001_0045   \n",
       "\n",
       "                                              smiles  \\\n",
       "0      Cc1cnn(CCC(=O)N(C)CCOCC[N@@H+](C)CCCC2CCC2)c1   \n",
       "1  COc1cc(CN[C@@H](CCc2ccccc2)[C@@H](C)[NH3+])ccc...   \n",
       "2         C/[NH+]=C(\\NCCCc1ccc(C)cc1C)NCCc1cc(C)sc1C   \n",
       "3  Cc1cc(C(C)(C)C)ccc1OC[C@@H](O)C[NH2+]Cc1cc(C)c...   \n",
       "4  Cc1cc(C[NH2+][C@@H]2CCCC[C@@H]2C[NH3+])ccc1Oc1...   \n",
       "\n",
       "                                           fp_binary  i_iter  clusterid  \\\n",
       "0  b'\\xe0\\xff\\xff\\xff\\x00\\x04\\x00\\x00\\'\\x00\\x00\\x...       8          7   \n",
       "1  b'\\xe0\\xff\\xff\\xff\\x00\\x04\\x00\\x00\"\\x00\\x00\\x0...       8         11   \n",
       "2  b'\\xe0\\xff\\xff\\xff\\x00\\x04\\x00\\x00\"\\x00\\x00\\x0...       8         14   \n",
       "3  b'\\xe0\\xff\\xff\\xff\\x00\\x04\\x00\\x00\\'\\x00\\x00\\x...       8         15   \n",
       "4  b'\\xe0\\xff\\xff\\xff\\x00\\x04\\x00\\x00$\\x00\\x00\\x0...       8         23   \n",
       "\n",
       "   unsats    clogP          ligandname_y  n_bad_bonds  n_bad_angles  \\\n",
       "0       1  1.15162  ZINCqv0000029uDv.lig            7             8   \n",
       "1       0  1.82010  ZINCqv000005TsWE.lig           13             7   \n",
       "2       1  2.40268  ZINCpN00000f2Y3z.lig            6             6   \n",
       "3       0  3.47416  ZINCpP000008GlLS.lig            4             4   \n",
       "4       0  2.79052  ZINCpP000008GwrJ.lig           14             3   \n",
       "\n",
       "   n_bad_torsions  \n",
       "0               1  \n",
       "1               0  \n",
       "2               1  \n",
       "3               0  \n",
       "4               0  "
      ]
     },
     "execution_count": 5,
     "metadata": {},
     "output_type": "execute_result"
    }
   ],
   "source": [
    "infn2 = \"./cluster.top.unsats2.ntor1.iter8.csv\"\n",
    "df_final = pd.read_csv(infn2)\n",
    "print(len(df_final))\n",
    "df_final.head()"
   ]
  },
  {
   "cell_type": "code",
   "execution_count": 6,
   "metadata": {},
   "outputs": [],
   "source": [
    "df_final.set_index(\"zincid\", inplace=True)"
   ]
  },
  {
   "cell_type": "code",
   "execution_count": 7,
   "metadata": {},
   "outputs": [],
   "source": [
    "qeds_order = []\n",
    "clogP_order = []\n",
    "sa_score_order = []\n",
    "for molid in df_order['ZINC22 ID']:\n",
    "    smi = df_final.loc[molid]['smiles']\n",
    "    mol = Chem.MolFromSmiles(smi)\n",
    "    qeds_order.append( QED.qed(mol) )\n",
    "    clogP_order.append( Crippen.MolLogP(mol) )\n",
    "    sa_score_order.append( sascorer.calculateScore(mol) )\n",
    "\n",
    "df_order['QED'] = qeds_order\n",
    "df_order['cLogP'] = clogP_order\n",
    "df_order['SA_score'] = sa_score_order"
   ]
  },
  {
   "cell_type": "code",
   "execution_count": 8,
   "metadata": {},
   "outputs": [
    {
     "data": {
      "text/html": [
       "<div>\n",
       "<style scoped>\n",
       "    .dataframe tbody tr th:only-of-type {\n",
       "        vertical-align: middle;\n",
       "    }\n",
       "\n",
       "    .dataframe tbody tr th {\n",
       "        vertical-align: top;\n",
       "    }\n",
       "\n",
       "    .dataframe thead th {\n",
       "        text-align: right;\n",
       "    }\n",
       "</style>\n",
       "<table border=\"1\" class=\"dataframe\">\n",
       "  <thead>\n",
       "    <tr style=\"text-align: right;\">\n",
       "      <th></th>\n",
       "      <th>ID</th>\n",
       "      <th>ZINC22 ID</th>\n",
       "      <th>Smile</th>\n",
       "      <th>QED</th>\n",
       "      <th>cLogP</th>\n",
       "      <th>SA_score</th>\n",
       "    </tr>\n",
       "  </thead>\n",
       "  <tbody>\n",
       "    <tr>\n",
       "      <th>0</th>\n",
       "      <td>Z8739902234</td>\n",
       "      <td>ZINCpP000008GlLS</td>\n",
       "      <td>CC=1C=C(CNCC(O)COC=2C=CC(=CC2C)C(C)(C)C)SC1C</td>\n",
       "      <td>0.792085</td>\n",
       "      <td>3.47416</td>\n",
       "      <td>3.690181</td>\n",
       "    </tr>\n",
       "    <tr>\n",
       "      <th>1</th>\n",
       "      <td>Z3831472882</td>\n",
       "      <td>ZINCnv000001Kvyh</td>\n",
       "      <td>CC1=NN(CC=2C=CC(C)=CC2)C(C)=C1CNC[C@@H]3C[C@H]...</td>\n",
       "      <td>0.780008</td>\n",
       "      <td>0.79806</td>\n",
       "      <td>4.345263</td>\n",
       "    </tr>\n",
       "    <tr>\n",
       "      <th>2</th>\n",
       "      <td>Z8739902231</td>\n",
       "      <td>ZINCnz000000f9a2</td>\n",
       "      <td>CC(C)[C@@H](N)CNCC=1C(C)=NN(CC=2C=CC(C)=CC2)C1C</td>\n",
       "      <td>0.822881</td>\n",
       "      <td>2.21276</td>\n",
       "      <td>3.165940</td>\n",
       "    </tr>\n",
       "    <tr>\n",
       "      <th>3</th>\n",
       "      <td>Z8718594710</td>\n",
       "      <td>ZINCpO00000ddVvP</td>\n",
       "      <td>CC(NCC1=CC=2C(C)=CC(C)=CC2N1)C(O)C=3C=CC(C)=C(...</td>\n",
       "      <td>0.654319</td>\n",
       "      <td>3.41776</td>\n",
       "      <td>3.890367</td>\n",
       "    </tr>\n",
       "    <tr>\n",
       "      <th>4</th>\n",
       "      <td>Z8739905023</td>\n",
       "      <td>ZINCpO000008hVSf</td>\n",
       "      <td>CC(CCC=1C=CC(OCC=C(C)C)=CC1)NCC(O)CCC2CC2</td>\n",
       "      <td>0.569375</td>\n",
       "      <td>3.46720</td>\n",
       "      <td>3.857304</td>\n",
       "    </tr>\n",
       "  </tbody>\n",
       "</table>\n",
       "</div>"
      ],
      "text/plain": [
       "            ID         ZINC22 ID  \\\n",
       "0  Z8739902234  ZINCpP000008GlLS   \n",
       "1  Z3831472882  ZINCnv000001Kvyh   \n",
       "2  Z8739902231  ZINCnz000000f9a2   \n",
       "3  Z8718594710  ZINCpO00000ddVvP   \n",
       "4  Z8739905023  ZINCpO000008hVSf   \n",
       "\n",
       "                                               Smile       QED    cLogP  \\\n",
       "0       CC=1C=C(CNCC(O)COC=2C=CC(=CC2C)C(C)(C)C)SC1C  0.792085  3.47416   \n",
       "1  CC1=NN(CC=2C=CC(C)=CC2)C(C)=C1CNC[C@@H]3C[C@H]...  0.780008  0.79806   \n",
       "2    CC(C)[C@@H](N)CNCC=1C(C)=NN(CC=2C=CC(C)=CC2)C1C  0.822881  2.21276   \n",
       "3  CC(NCC1=CC=2C(C)=CC(C)=CC2N1)C(O)C=3C=CC(C)=C(...  0.654319  3.41776   \n",
       "4          CC(CCC=1C=CC(OCC=C(C)C)=CC1)NCC(O)CCC2CC2  0.569375  3.46720   \n",
       "\n",
       "   SA_score  \n",
       "0  3.690181  \n",
       "1  4.345263  \n",
       "2  3.165940  \n",
       "3  3.890367  \n",
       "4  3.857304  "
      ]
     },
     "execution_count": 8,
     "metadata": {},
     "output_type": "execute_result"
    }
   ],
   "source": [
    "df_order.head()"
   ]
  },
  {
   "cell_type": "code",
   "execution_count": 9,
   "metadata": {},
   "outputs": [
    {
     "data": {
      "text/plain": [
       "(0.7554000562383432, 2.3962511111111118, 3.8058844776236844)"
      ]
     },
     "execution_count": 9,
     "metadata": {},
     "output_type": "execute_result"
    }
   ],
   "source": [
    "np.mean(df_order['QED']), np.mean(df_order['cLogP']), np.mean(df_order['SA_score'])"
   ]
  },
  {
   "cell_type": "code",
   "execution_count": 10,
   "metadata": {},
   "outputs": [
    {
     "data": {
      "text/plain": [
       "(0.08880002268270948, 0.8710999189587133, 0.40086264295804175)"
      ]
     },
     "execution_count": 10,
     "metadata": {},
     "output_type": "execute_result"
    }
   ],
   "source": [
    "np.std(df_order['QED']), np.std(df_order['cLogP']), np.std(df_order['SA_score'])"
   ]
  },
  {
   "cell_type": "code",
   "execution_count": 11,
   "metadata": {},
   "outputs": [
    {
     "data": {
      "text/plain": [
       "(0.7920854257659525, 2.3005, 3.857303742711559)"
      ]
     },
     "execution_count": 11,
     "metadata": {},
     "output_type": "execute_result"
    }
   ],
   "source": [
    "np.median(df_order['QED']), np.median(df_order['cLogP']), np.median(df_order['SA_score'])"
   ]
  },
  {
   "cell_type": "code",
   "execution_count": 12,
   "metadata": {},
   "outputs": [
    {
     "data": {
      "text/plain": [
       "(0.5693752890227239, 0.7980600000000018, 3.165939547189895)"
      ]
     },
     "execution_count": 12,
     "metadata": {},
     "output_type": "execute_result"
    }
   ],
   "source": [
    "np.min(df_order['QED']), np.min(df_order['cLogP']), np.min(df_order['SA_score'])"
   ]
  },
  {
   "cell_type": "code",
   "execution_count": 13,
   "metadata": {},
   "outputs": [
    {
     "data": {
      "text/plain": [
       "(0.8515089855244934, 3.4741600000000012, 4.345263403769106)"
      ]
     },
     "execution_count": 13,
     "metadata": {},
     "output_type": "execute_result"
    }
   ],
   "source": [
    "np.max(df_order['QED']), np.max(df_order['cLogP']), np.max(df_order['SA_score'])"
   ]
  },
  {
   "cell_type": "code",
   "execution_count": 14,
   "metadata": {},
   "outputs": [],
   "source": [
    "df_order.to_csv(\"ordered_compounds.properties.csv\")"
   ]
  },
  {
   "cell_type": "markdown",
   "metadata": {},
   "source": []
  }
 ],
 "metadata": {
  "kernelspec": {
   "display_name": "deepdock",
   "language": "python",
   "name": "python3"
  },
  "language_info": {
   "codemirror_mode": {
    "name": "ipython",
    "version": 3
   },
   "file_extension": ".py",
   "mimetype": "text/x-python",
   "name": "python",
   "nbconvert_exporter": "python",
   "pygments_lexer": "ipython3",
   "version": "3.9.18"
  },
  "vscode": {
   "interpreter": {
    "hash": "71be8b7af4330cfa64dcf9cce5c116dea112db3c96d2c037a241727e7906d538"
   }
  }
 },
 "nbformat": 4,
 "nbformat_minor": 4
}
