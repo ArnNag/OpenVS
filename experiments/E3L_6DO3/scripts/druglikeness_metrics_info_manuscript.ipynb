{
 "cells": [
  {
   "cell_type": "code",
   "execution_count": 1,
   "metadata": {},
   "outputs": [],
   "source": [
    "import matplotlib.pyplot as plt\n",
    "import numpy as np\n",
    "import pandas as pd\n",
    "import os,sys\n",
    "from rdkit import Chem\n",
    "from rdkit.Chem import Crippen, QED, RDConfig\n",
    "sys.path.append(os.path.join(RDConfig.RDContribDir, 'SA_Score'))\n",
    "import sascorer"
   ]
  },
  {
   "cell_type": "code",
   "execution_count": 2,
   "metadata": {},
   "outputs": [],
   "source": [
    "%matplotlib inline"
   ]
  },
  {
   "cell_type": "code",
   "execution_count": 3,
   "metadata": {},
   "outputs": [],
   "source": [
    "plt.style.use('seaborn-v0_8-bright')"
   ]
  },
  {
   "cell_type": "code",
   "execution_count": 59,
   "metadata": {},
   "outputs": [
    {
     "name": "stdout",
     "output_type": "stream",
     "text": [
      "50\n"
     ]
    },
    {
     "data": {
      "text/html": [
       "<div>\n",
       "<style scoped>\n",
       "    .dataframe tbody tr th:only-of-type {\n",
       "        vertical-align: middle;\n",
       "    }\n",
       "\n",
       "    .dataframe tbody tr th {\n",
       "        vertical-align: top;\n",
       "    }\n",
       "\n",
       "    .dataframe thead th {\n",
       "        text-align: right;\n",
       "    }\n",
       "</style>\n",
       "<table border=\"1\" class=\"dataframe\">\n",
       "  <thead>\n",
       "    <tr style=\"text-align: right;\">\n",
       "      <th></th>\n",
       "      <th>ID</th>\n",
       "      <th>catalogID</th>\n",
       "      <th>Smile</th>\n",
       "    </tr>\n",
       "  </thead>\n",
       "  <tbody>\n",
       "    <tr>\n",
       "      <th>0</th>\n",
       "      <td>C1</td>\n",
       "      <td>Z7881785896</td>\n",
       "      <td>CC(C)C(=CC(=O)N1CCN(C2CC21)C(=O)CC3=CN=C4N=CC=...</td>\n",
       "    </tr>\n",
       "    <tr>\n",
       "      <th>1</th>\n",
       "      <td>C2</td>\n",
       "      <td>Z7881785689</td>\n",
       "      <td>O=C(CCCN1C=CN=N1)N2CCC(C2)NC(=O)C=3C=NC=C4C=CC...</td>\n",
       "    </tr>\n",
       "    <tr>\n",
       "      <th>2</th>\n",
       "      <td>C3</td>\n",
       "      <td>Z7881785697</td>\n",
       "      <td>CC=1C=CC(CC(=O)N2CC=CC(C2)NC(=O)CCC3=NN=CS3)=CC1C</td>\n",
       "    </tr>\n",
       "    <tr>\n",
       "      <th>3</th>\n",
       "      <td>C4</td>\n",
       "      <td>Z7881785713</td>\n",
       "      <td>C[C@H]1CN(C[C@H]1NC(=O)CCN2C=CN=N2)C(=O)C(OC(C...</td>\n",
       "    </tr>\n",
       "    <tr>\n",
       "      <th>4</th>\n",
       "      <td>C5</td>\n",
       "      <td>Z7881785813</td>\n",
       "      <td>OC(=O)[C@@H]1C[C@@H]1CNC(=O)C=2C=CC(OC=3C=CC(F...</td>\n",
       "    </tr>\n",
       "  </tbody>\n",
       "</table>\n",
       "</div>"
      ],
      "text/plain": [
       "   ID    catalogID                                              Smile\n",
       "0  C1  Z7881785896  CC(C)C(=CC(=O)N1CCN(C2CC21)C(=O)CC3=CN=C4N=CC=...\n",
       "1  C2  Z7881785689  O=C(CCCN1C=CN=N1)N2CCC(C2)NC(=O)C=3C=NC=C4C=CC...\n",
       "2  C3  Z7881785697  CC=1C=CC(CC(=O)N2CC=CC(C2)NC(=O)CCC3=NN=CS3)=CC1C\n",
       "3  C4  Z7881785713  C[C@H]1CN(C[C@H]1NC(=O)CCN2C=CN=N2)C(=O)C(OC(C...\n",
       "4  C5  Z7881785813  OC(=O)[C@@H]1C[C@@H]1CNC(=O)C=2C=CC(OC=3C=CC(F..."
      ]
     },
     "execution_count": 59,
     "metadata": {},
     "output_type": "execute_result"
    }
   ],
   "source": [
    "infn1 = \"../manuscript/compounds_first_batch.csv\"\n",
    "df1 = pd.read_csv(infn1)\n",
    "infn2 = \"../manuscript/compounds_second_batch.csv\"\n",
    "df2 = pd.read_csv(infn2)\n",
    "df_order = pd.concat([df1, df2], ignore_index=True)\n",
    "print(len(df_order))\n",
    "df_order.head()"
   ]
  },
  {
   "cell_type": "code",
   "execution_count": 60,
   "metadata": {},
   "outputs": [
    {
     "name": "stdout",
     "output_type": "stream",
     "text": [
      "50\n",
      "       ID    catalogID                                              Smile\n",
      "0      C1  Z7881785896  CC(C)C(=CC(=O)N1CCN(C2CC21)C(=O)CC3=CN=C4N=CC=...\n",
      "1      C2  Z7881785689  O=C(CCCN1C=CN=N1)N2CCC(C2)NC(=O)C=3C=NC=C4C=CC...\n",
      "2      C3  Z7881785697  CC=1C=CC(CC(=O)N2CC=CC(C2)NC(=O)CCC3=NN=CS3)=CC1C\n",
      "3      C4  Z7881785713  C[C@H]1CN(C[C@H]1NC(=O)CCN2C=CN=N2)C(=O)C(OC(C...\n",
      "4      C5  Z7881785813  OC(=O)[C@@H]1C[C@@H]1CNC(=O)C=2C=CC(OC=3C=CC(F...\n",
      "5      C6  Z7881785655    CC(C)(CNC(=O)C=1C=CN=NC1S)NC(=O)CC2CCCC(C)(C)C2\n",
      "6      C7  Z7881785987  CC1CN(CCCN1C(=O)[C@H]2CC2(C)C)C(=O)C=3C=CC(CN4...\n",
      "7      C8  Z4983979702   CN(CC=1C=NN(CC=2C=CC=CC2)C1)C3=NN=C(CCCC(=O)O)S3\n",
      "8      C9  Z7881785930  CC=1C=C(C)N=C(C1)C(=O)N2C[C@@H]3CN(CC[C@@H]32)...\n",
      "9     C10  Z7881785853  CC=1C=C(C(=O)N2CC(O)(CCNC(=O)CN3C=NN=C3)C2)C(F...\n",
      "10    C11  Z7881785950  CC=1C=NC=C(CCC(=O)NC[C@H]2CCCN(C2)C(=O)C3=CN=N...\n",
      "11    C12  Z7881785646  CN(C1CCN(CC1)C(=O)[C@H]2C[C@@](C)(O)C2)C(=O)CC...\n",
      "12    C13  Z7881785649  CC1=C(C)CC(CC1)C(=O)N2CC(C2)NC(=O)C=3C=CN=C(CN...\n",
      "13    C14  Z7881785753  CC1(C)[C@H]2C[C@@H](C[C@H]21)C(=O)NCC3CCCN(C3)...\n",
      "14    C15  Z7881785833  C[C@@H]1CN(CCN1C(=O)CCN2C=CN=N2)C(=O)CC=3C=C(F...\n",
      "15    C16  Z7881785886  CC1(CCCC1(F)F)C(=O)N2CC3C(CNC(=O)CCC4=NN=CN4)C3C2\n",
      "16    C17  Z3587812408      CC1=CC(C(=O)NCCCN2C=NN=N2)=C(C)N1CC=3C=CC=CC3\n",
      "17    C18  Z1903295352       COC=1C=CC(CN(C)C(=O)COC(=O)CN2C=CN=N2)=CC1OC\n",
      "18    C19  Z7881785863  O=C(NCC1CCCN(CC1)C(=O)C2CC2)C3=CC=C(CN4C=CN=N4)O3\n",
      "19    C20  Z7881785940  FC(F)(F)[C@@H]1C[C@@H]1C(=O)N2CC3(C2)CCN(C3)C(...\n",
      "20    C21  Z7881785708  CCC(=C(C)C(=O)N(C)C[C@H]1[C@@H]2CN(C[C@H]12)C(...\n",
      "21    C22  Z7881785669  CC(=C(C)C(=O)N1CCC(CNC(=O)CCC2=NN=CN2C)C(F)(F)...\n",
      "22    C23  Z7881785983  FC(F)(F)C=1C=CC=C(CC(=O)NCC2CCN2C(=O)CN3C=NN=C...\n",
      "23    C24  Z7881785877  CC1(CC1(F)F)C(=O)N[C@H]2C[C@@](F)(CNC(=O)CN3CC...\n",
      "24    C25  Z7881785919                NC1CC=2C=CC(=CC2C1)C(=O)NCCCCC(=O)O\n",
      "25    C26  Z4079348547            CCC=1C=CC(CCN2C=C(CCCOCC(=O)O)N=N2)=CC1\n",
      "26    C27  Z1762701229  CC(=O)N(CC(=O)O)C1CCCN(CC1)C(=O)COC=2C=CC=3C=C...\n",
      "27    C28   Z802625304                  CC(C)C(N)C(=O)NC=1C=NN(CC(=O)O)C1\n",
      "28    C29  Z3009405982  CC(C)(C)C=1C=CC(CSCC(=O)NCC2=CN(CC(=O)O)N=N2)=CC1\n",
      "29   c2.1  Z8381047076  CN(CC1=CN(CC(=O)O)N=N1)C(=O)CCC=2C=CC=C3C=CC=CC23\n",
      "30   c2.2  Z8381047276  CC(NC(=O)C1=CSC(=N1)C=2C=CC(C)=CC2)C3=CN(CC(=O...\n",
      "31   c2.3  Z8381047289    CC(NC(=O)CCC=1C=C(C)C=C(C)C1)C2=CN(CC(=O)O)N=N2\n",
      "32   c2.4  Z8381047088    CN(CC1=CN(CC(=O)O)N=N1)C(=O)CCCSC=2C=CC(Cl)=CC2\n",
      "33   c2.5  Z8381047292          CCCCCCCCCCC(=O)N(C)C(C)C1=CN(CC(=O)O)N=N1\n",
      "34   c2.6  Z8381047072  CC=1C=CC(C)=C(SCC(=O)N(CC=C)CC2=CN(CC(=O)O)N=N...\n",
      "35   c2.7  Z8381047258     CCCCN(C(C)C1=CN(N=N1)C(C)C(=O)O)C(=O)CCCC2CCC2\n",
      "36   c2.8  Z8381047063    CC1=CC(C)=C(S1)C(=O)NCC(=O)NCC2=CN(CC(=O)O)N=N2\n",
      "37   c2.9  Z8381047277      CCC(NC(=O)CSCCCC=1C=CC=CC1)C2=CN(CC(=O)O)N=N2\n",
      "38  c2.10  Z1991867624         CN1N=CC(C(=O)NCC2=CN(CC(=O)O)N=N2)=C1C3CC3\n",
      "39  c2.11  Z8381047065        CN(CC1=CN(CC(=O)O)N=N1)C(=O)CSCCC=2C=CC=CC2\n",
      "40  c2.12  Z8381047265      CC(CC(=O)NCC(=O)NCC1=CN(CC(=O)O)N=N1)C(C)(C)C\n",
      "41  c2.13  Z8381047291      CN1CC(CC(=O)NCC2=CN(CC(=O)O)N=N2)CCC1C(F)(F)F\n",
      "42  c2.14  Z8381047077   CC=1C=CC=C(CSCC(=O)N(CC=C)CC2=CN(CC(=O)O)N=N2)C1\n",
      "43  c2.15  Z1991864395          OC(=O)CN1C=C(CNC(=O)CC2OCCC=3C=CSC23)N=N1\n",
      "44  c2.16  Z1991868966      OC(=O)CN1C=C(CNC(=O)C=2C=CC=CC2SCC3CCCO3)N=N1\n",
      "45  c2.17  Z8381047286  CC(N(C)C(=O)CCC1=NC=2C=CC=CC2S1)C3=CN(CC(=O)O)...\n",
      "46  c2.18  Z8505473793  Cl.COC=1N=CC=C2C(=CNC12)C(=O)NCC3=CN(CC(=O)O)N=N3\n",
      "47  c2.19  Z8381047073     OC(=O)CN1C=C(CN(CC=C)C(=O)CCSCC=2C=CC=CC2)N=N1\n",
      "48  c2.20  Z8381047285   CC(NC(=O)CSCC1=NC=2C=CC=CC2S1)C3=CN(CC(=O)O)N=N3\n",
      "49  c2.21  Z8381047264     CC1CN(CC(=C1)C)C(=O)CC(=O)NCC2=CN(CC(=O)O)N=N2\n"
     ]
    }
   ],
   "source": [
    "print(len(df_order))\n",
    "print(df_order)\n",
    "df_order.to_csv(\"compounds_ordered.csv\", index=False)"
   ]
  },
  {
   "cell_type": "code",
   "execution_count": 63,
   "metadata": {},
   "outputs": [],
   "source": [
    "outfn = \"compounds_ordered.smi\"\n",
    "content = []\n",
    "for l in zip(df_order['Smile'], df_order['catalogID']):\n",
    "    content.append(f\"{l[0]} {l[1]}\\n\")\n",
    "with open(outfn, \"w\") as f:\n",
    "    f.writelines(content)"
   ]
  },
  {
   "cell_type": "code",
   "execution_count": 67,
   "metadata": {},
   "outputs": [
    {
     "name": "stdout",
     "output_type": "stream",
     "text": [
      "50\n"
     ]
    }
   ],
   "source": [
    "with open(\"compounds_ordered.prot.smi\") as infh:\n",
    "    id2smi = {}\n",
    "    for l in infh:\n",
    "        fields = l.strip().split()\n",
    "        id2smi[fields[-1]] =  fields[0]\n",
    "id2smi\n",
    "print(len(id2smi))"
   ]
  },
  {
   "cell_type": "code",
   "execution_count": 65,
   "metadata": {},
   "outputs": [
    {
     "name": "stdout",
     "output_type": "stream",
     "text": [
      "       ID    catalogID                                              Smile\n",
      "0      C1  Z7881785896  CC(C)C(=CC(=O)N1CCN(C2CC21)C(=O)CC3=CN=C4N=CC=...\n",
      "1      C2  Z7881785689  O=C(CCCN1C=CN=N1)N2CCC(C2)NC(=O)C=3C=NC=C4C=CC...\n",
      "2      C3  Z7881785697  CC=1C=CC(CC(=O)N2CC=CC(C2)NC(=O)CCC3=NN=CS3)=CC1C\n",
      "3      C4  Z7881785713  C[C@H]1CN(C[C@H]1NC(=O)CCN2C=CN=N2)C(=O)C(OC(C...\n",
      "4      C5  Z7881785813  OC(=O)[C@@H]1C[C@@H]1CNC(=O)C=2C=CC(OC=3C=CC(F...\n",
      "5      C6  Z7881785655    CC(C)(CNC(=O)C=1C=CN=NC1S)NC(=O)CC2CCCC(C)(C)C2\n",
      "6      C7  Z7881785987  CC1CN(CCCN1C(=O)[C@H]2CC2(C)C)C(=O)C=3C=CC(CN4...\n",
      "7      C8  Z4983979702   CN(CC=1C=NN(CC=2C=CC=CC2)C1)C3=NN=C(CCCC(=O)O)S3\n",
      "8      C9  Z7881785930  CC=1C=C(C)N=C(C1)C(=O)N2C[C@@H]3CN(CC[C@@H]32)...\n",
      "9     C10  Z7881785853  CC=1C=C(C(=O)N2CC(O)(CCNC(=O)CN3C=NN=C3)C2)C(F...\n",
      "10    C11  Z7881785950  CC=1C=NC=C(CCC(=O)NC[C@H]2CCCN(C2)C(=O)C3=CN=N...\n",
      "11    C12  Z7881785646  CN(C1CCN(CC1)C(=O)[C@H]2C[C@@](C)(O)C2)C(=O)CC...\n",
      "12    C13  Z7881785649  CC1=C(C)CC(CC1)C(=O)N2CC(C2)NC(=O)C=3C=CN=C(CN...\n",
      "13    C14  Z7881785753  CC1(C)[C@H]2C[C@@H](C[C@H]21)C(=O)NCC3CCCN(C3)...\n",
      "14    C15  Z7881785833  C[C@@H]1CN(CCN1C(=O)CCN2C=CN=N2)C(=O)CC=3C=C(F...\n",
      "15    C16  Z7881785886  CC1(CCCC1(F)F)C(=O)N2CC3C(CNC(=O)CCC4=NN=CN4)C3C2\n",
      "16    C17  Z3587812408      CC1=CC(C(=O)NCCCN2C=NN=N2)=C(C)N1CC=3C=CC=CC3\n",
      "17    C18  Z1903295352       COC=1C=CC(CN(C)C(=O)COC(=O)CN2C=CN=N2)=CC1OC\n",
      "18    C19  Z7881785863  O=C(NCC1CCCN(CC1)C(=O)C2CC2)C3=CC=C(CN4C=CN=N4)O3\n",
      "19    C20  Z7881785940  FC(F)(F)[C@@H]1C[C@@H]1C(=O)N2CC3(C2)CCN(C3)C(...\n",
      "20    C21  Z7881785708  CCC(=C(C)C(=O)N(C)C[C@H]1[C@@H]2CN(C[C@H]12)C(...\n",
      "21    C22  Z7881785669  CC(=C(C)C(=O)N1CCC(CNC(=O)CCC2=NN=CN2C)C(F)(F)...\n",
      "22    C23  Z7881785983  FC(F)(F)C=1C=CC=C(CC(=O)NCC2CCN2C(=O)CN3C=NN=C...\n",
      "23    C24  Z7881785877  CC1(CC1(F)F)C(=O)N[C@H]2C[C@@](F)(CNC(=O)CN3CC...\n",
      "24    C25  Z7881785919                NC1CC=2C=CC(=CC2C1)C(=O)NCCCCC(=O)O\n",
      "25    C26  Z4079348547            CCC=1C=CC(CCN2C=C(CCCOCC(=O)O)N=N2)=CC1\n",
      "26    C27  Z1762701229  CC(=O)N(CC(=O)O)C1CCCN(CC1)C(=O)COC=2C=CC=3C=C...\n",
      "27    C28   Z802625304                  CC(C)C(N)C(=O)NC=1C=NN(CC(=O)O)C1\n",
      "28    C29  Z3009405982  CC(C)(C)C=1C=CC(CSCC(=O)NCC2=CN(CC(=O)O)N=N2)=CC1\n",
      "29   c2.1  Z8381047076  CN(CC1=CN(CC(=O)O)N=N1)C(=O)CCC=2C=CC=C3C=CC=CC23\n",
      "30   c2.2  Z8381047276  CC(NC(=O)C1=CSC(=N1)C=2C=CC(C)=CC2)C3=CN(CC(=O...\n",
      "31   c2.3  Z8381047289    CC(NC(=O)CCC=1C=C(C)C=C(C)C1)C2=CN(CC(=O)O)N=N2\n",
      "32   c2.4  Z8381047088    CN(CC1=CN(CC(=O)O)N=N1)C(=O)CCCSC=2C=CC(Cl)=CC2\n",
      "33   c2.5  Z8381047292          CCCCCCCCCCC(=O)N(C)C(C)C1=CN(CC(=O)O)N=N1\n",
      "34   c2.6  Z8381047072  CC=1C=CC(C)=C(SCC(=O)N(CC=C)CC2=CN(CC(=O)O)N=N...\n",
      "35   c2.7  Z8381047258     CCCCN(C(C)C1=CN(N=N1)C(C)C(=O)O)C(=O)CCCC2CCC2\n",
      "36   c2.8  Z8381047063    CC1=CC(C)=C(S1)C(=O)NCC(=O)NCC2=CN(CC(=O)O)N=N2\n",
      "37   c2.9  Z8381047277      CCC(NC(=O)CSCCCC=1C=CC=CC1)C2=CN(CC(=O)O)N=N2\n",
      "38  c2.10  Z1991867624         CN1N=CC(C(=O)NCC2=CN(CC(=O)O)N=N2)=C1C3CC3\n",
      "39  c2.11  Z8381047065        CN(CC1=CN(CC(=O)O)N=N1)C(=O)CSCCC=2C=CC=CC2\n",
      "40  c2.12  Z8381047265      CC(CC(=O)NCC(=O)NCC1=CN(CC(=O)O)N=N1)C(C)(C)C\n",
      "41  c2.13  Z8381047291      CN1CC(CC(=O)NCC2=CN(CC(=O)O)N=N2)CCC1C(F)(F)F\n",
      "42  c2.14  Z8381047077   CC=1C=CC=C(CSCC(=O)N(CC=C)CC2=CN(CC(=O)O)N=N2)C1\n",
      "43  c2.15  Z1991864395          OC(=O)CN1C=C(CNC(=O)CC2OCCC=3C=CSC23)N=N1\n",
      "44  c2.16  Z1991868966      OC(=O)CN1C=C(CNC(=O)C=2C=CC=CC2SCC3CCCO3)N=N1\n",
      "45  c2.17  Z8381047286  CC(N(C)C(=O)CCC1=NC=2C=CC=CC2S1)C3=CN(CC(=O)O)...\n",
      "46  c2.18  Z8505473793  Cl.COC=1N=CC=C2C(=CNC12)C(=O)NCC3=CN(CC(=O)O)N=N3\n",
      "47  c2.19  Z8381047073     OC(=O)CN1C=C(CN(CC=C)C(=O)CCSCC=2C=CC=CC2)N=N1\n",
      "48  c2.20  Z8381047285   CC(NC(=O)CSCC1=NC=2C=CC=CC2S1)C3=CN(CC(=O)O)N=N3\n",
      "49  c2.21  Z8381047264     CC1CN(CC(=C1)C)C(=O)CC(=O)NCC2=CN(CC(=O)O)N=N2\n"
     ]
    }
   ],
   "source": [
    "df_order.head()\n",
    "print(df_order)"
   ]
  },
  {
   "cell_type": "code",
   "execution_count": 68,
   "metadata": {},
   "outputs": [
    {
     "data": {
      "text/html": [
       "<div>\n",
       "<style scoped>\n",
       "    .dataframe tbody tr th:only-of-type {\n",
       "        vertical-align: middle;\n",
       "    }\n",
       "\n",
       "    .dataframe tbody tr th {\n",
       "        vertical-align: top;\n",
       "    }\n",
       "\n",
       "    .dataframe thead th {\n",
       "        text-align: right;\n",
       "    }\n",
       "</style>\n",
       "<table border=\"1\" class=\"dataframe\">\n",
       "  <thead>\n",
       "    <tr style=\"text-align: right;\">\n",
       "      <th></th>\n",
       "      <th>ID</th>\n",
       "      <th>catalogID</th>\n",
       "      <th>Smile</th>\n",
       "    </tr>\n",
       "  </thead>\n",
       "  <tbody>\n",
       "    <tr>\n",
       "      <th>0</th>\n",
       "      <td>C1</td>\n",
       "      <td>Z7881785896</td>\n",
       "      <td>CC(=CC(=O)N1CCN(C(=O)Cc2cnc3ncccn23)C2CC21)C(C)C</td>\n",
       "    </tr>\n",
       "    <tr>\n",
       "      <th>1</th>\n",
       "      <td>C2</td>\n",
       "      <td>Z7881785689</td>\n",
       "      <td>O=C(NC1CCN(C(=O)CCCn2ccnn2)C1)c1cncc2ccccc12</td>\n",
       "    </tr>\n",
       "    <tr>\n",
       "      <th>2</th>\n",
       "      <td>C3</td>\n",
       "      <td>Z7881785697</td>\n",
       "      <td>Cc1ccc(CC(=O)N2CC=CC(NC(=O)CCc3nncs3)C2)cc1C</td>\n",
       "    </tr>\n",
       "    <tr>\n",
       "      <th>3</th>\n",
       "      <td>C4</td>\n",
       "      <td>Z7881785713</td>\n",
       "      <td>C[C@H]1CN(C(=O)C(OC(C)(C)C)C(C)(C)C)C[C@H]1NC(...</td>\n",
       "    </tr>\n",
       "    <tr>\n",
       "      <th>4</th>\n",
       "      <td>C5</td>\n",
       "      <td>Z7881785813</td>\n",
       "      <td>O=C(NC[C@H]1C[C@H]1C(=O)[O-])c1ccc(Oc2ccc(F)c(...</td>\n",
       "    </tr>\n",
       "  </tbody>\n",
       "</table>\n",
       "</div>"
      ],
      "text/plain": [
       "   ID    catalogID                                              Smile\n",
       "0  C1  Z7881785896   CC(=CC(=O)N1CCN(C(=O)Cc2cnc3ncccn23)C2CC21)C(C)C\n",
       "1  C2  Z7881785689       O=C(NC1CCN(C(=O)CCCn2ccnn2)C1)c1cncc2ccccc12\n",
       "2  C3  Z7881785697       Cc1ccc(CC(=O)N2CC=CC(NC(=O)CCc3nncs3)C2)cc1C\n",
       "3  C4  Z7881785713  C[C@H]1CN(C(=O)C(OC(C)(C)C)C(C)(C)C)C[C@H]1NC(...\n",
       "4  C5  Z7881785813  O=C(NC[C@H]1C[C@H]1C(=O)[O-])c1ccc(Oc2ccc(F)c(..."
      ]
     },
     "execution_count": 68,
     "metadata": {},
     "output_type": "execute_result"
    }
   ],
   "source": [
    "for i in range(len(df_order)):\n",
    "    df_order.iloc[i]['Smile'] = id2smi[df_order.iloc[i]['catalogID']]\n",
    "df_order.head()"
   ]
  },
  {
   "cell_type": "code",
   "execution_count": 69,
   "metadata": {},
   "outputs": [],
   "source": [
    "qeds_order = []\n",
    "clogP_order = []\n",
    "sa_score_order = []\n",
    "for smi in df_order['Smile']:\n",
    "    mol = Chem.MolFromSmiles(smi)\n",
    "    qeds_order.append( QED.qed(mol) )\n",
    "    clogP_order.append( Crippen.MolLogP(mol) )\n",
    "    sa_score_order.append( sascorer.calculateScore(mol) )\n",
    "\n",
    "df_order['QED'] = qeds_order\n",
    "df_order['cLogP'] = clogP_order\n",
    "df_order['SA_score'] = sa_score_order"
   ]
  },
  {
   "cell_type": "code",
   "execution_count": 70,
   "metadata": {},
   "outputs": [
    {
     "name": "stdout",
     "output_type": "stream",
     "text": [
      "50\n"
     ]
    }
   ],
   "source": [
    "\n",
    "df_order_new = df_order[df_order['cLogP']<=3.5]\n",
    "print(len(df_order_new))"
   ]
  },
  {
   "cell_type": "code",
   "execution_count": 71,
   "metadata": {},
   "outputs": [
    {
     "data": {
      "text/plain": [
       "(0.6853905747645195, 0.8276204000000001, 3.3520854160504228)"
      ]
     },
     "execution_count": 71,
     "metadata": {},
     "output_type": "execute_result"
    }
   ],
   "source": [
    "np.mean(df_order['QED']), np.mean(df_order['cLogP']), np.mean(df_order['SA_score'])"
   ]
  },
  {
   "cell_type": "code",
   "execution_count": 72,
   "metadata": {},
   "outputs": [
    {
     "data": {
      "text/plain": [
       "(0.10786689174557286, 1.191876623853257, 0.5645855172826725)"
      ]
     },
     "execution_count": 72,
     "metadata": {},
     "output_type": "execute_result"
    }
   ],
   "source": [
    "np.std(df_order['QED']), np.std(df_order['cLogP']), np.std(df_order['SA_score'])"
   ]
  },
  {
   "cell_type": "code",
   "execution_count": 73,
   "metadata": {},
   "outputs": [
    {
     "data": {
      "text/plain": [
       "(0.7004001640757587, 0.9513299999999996, 3.2410188470168277)"
      ]
     },
     "execution_count": 73,
     "metadata": {},
     "output_type": "execute_result"
    }
   ],
   "source": [
    "np.median(df_order['QED']), np.median(df_order['cLogP']), np.median(df_order['SA_score'])"
   ]
  },
  {
   "cell_type": "code",
   "execution_count": 74,
   "metadata": {},
   "outputs": [
    {
     "data": {
      "text/plain": [
       "(0.42866180030324336, -2.161999999999998, 2.2426089284843336)"
      ]
     },
     "execution_count": 74,
     "metadata": {},
     "output_type": "execute_result"
    }
   ],
   "source": [
    "np.min(df_order['QED']), np.min(df_order['cLogP']), np.min(df_order['SA_score'])"
   ]
  },
  {
   "cell_type": "code",
   "execution_count": 75,
   "metadata": {},
   "outputs": [
    {
     "data": {
      "text/plain": [
       "(0.8661409714091751, 2.613500000000001, 4.877603079372825)"
      ]
     },
     "execution_count": 75,
     "metadata": {},
     "output_type": "execute_result"
    }
   ],
   "source": [
    "np.max(df_order['QED']), np.max(df_order['cLogP']), np.max(df_order['SA_score'])"
   ]
  },
  {
   "cell_type": "code",
   "execution_count": 76,
   "metadata": {},
   "outputs": [],
   "source": [
    "df_order.to_csv(\"compounds_ordered.fixed.csv\", index=False)"
   ]
  },
  {
   "cell_type": "code",
   "execution_count": null,
   "metadata": {},
   "outputs": [],
   "source": []
  },
  {
   "cell_type": "markdown",
   "metadata": {},
   "source": []
  }
 ],
 "metadata": {
  "kernelspec": {
   "display_name": "deepdock",
   "language": "python",
   "name": "python3"
  },
  "language_info": {
   "codemirror_mode": {
    "name": "ipython",
    "version": 3
   },
   "file_extension": ".py",
   "mimetype": "text/x-python",
   "name": "python",
   "nbconvert_exporter": "python",
   "pygments_lexer": "ipython3",
   "version": "3.9.18"
  },
  "vscode": {
   "interpreter": {
    "hash": "71be8b7af4330cfa64dcf9cce5c116dea112db3c96d2c037a241727e7906d538"
   }
  }
 },
 "nbformat": 4,
 "nbformat_minor": 4
}
